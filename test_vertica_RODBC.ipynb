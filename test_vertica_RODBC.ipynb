{
 "cells": [
  {
   "cell_type": "markdown",
   "metadata": {},
   "source": [
    "R notebook to demonstrate Vertica connection and simple queries and plots from Vertica system tables"
   ]
  },
  {
   "cell_type": "code",
   "execution_count": 1,
   "metadata": {},
   "outputs": [
    {
     "data": {
      "text/html": [
       "<dl class=dl-horizontal>\n",
       "\t<dt>DBMS_Name</dt>\n",
       "\t\t<dd>'Vertica Database'</dd>\n",
       "\t<dt>DBMS_Ver</dt>\n",
       "\t\t<dd>'09.00.0001'</dd>\n",
       "\t<dt>Driver_ODBC_Ver</dt>\n",
       "\t\t<dd>'03.80'</dd>\n",
       "\t<dt>Data_Source_Name</dt>\n",
       "\t\t<dd>'VMart'</dd>\n",
       "\t<dt>Driver_Name</dt>\n",
       "\t\t<dd>'verticaodbcw.so'</dd>\n",
       "\t<dt>Driver_Ver</dt>\n",
       "\t\t<dd>'09.00.0001'</dd>\n",
       "\t<dt>ODBC_Ver</dt>\n",
       "\t\t<dd>'03.52'</dd>\n",
       "\t<dt>Server_Name</dt>\n",
       "\t\t<dd>'10.0.2.15'</dd>\n",
       "</dl>\n"
      ],
      "text/latex": [
       "\\begin{description*}\n",
       "\\item[DBMS\\textbackslash{}\\_Name] 'Vertica Database'\n",
       "\\item[DBMS\\textbackslash{}\\_Ver] '09.00.0001'\n",
       "\\item[Driver\\textbackslash{}\\_ODBC\\textbackslash{}\\_Ver] '03.80'\n",
       "\\item[Data\\textbackslash{}\\_Source\\textbackslash{}\\_Name] 'VMart'\n",
       "\\item[Driver\\textbackslash{}\\_Name] 'verticaodbcw.so'\n",
       "\\item[Driver\\textbackslash{}\\_Ver] '09.00.0001'\n",
       "\\item[ODBC\\textbackslash{}\\_Ver] '03.52'\n",
       "\\item[Server\\textbackslash{}\\_Name] '10.0.2.15'\n",
       "\\end{description*}\n"
      ],
      "text/markdown": [
       "DBMS_Name\n",
       ":   'Vertica Database'DBMS_Ver\n",
       ":   '09.00.0001'Driver_ODBC_Ver\n",
       ":   '03.80'Data_Source_Name\n",
       ":   'VMart'Driver_Name\n",
       ":   'verticaodbcw.so'Driver_Ver\n",
       ":   '09.00.0001'ODBC_Ver\n",
       ":   '03.52'Server_Name\n",
       ":   '10.0.2.15'\n",
       "\n"
      ],
      "text/plain": [
       "         DBMS_Name           DBMS_Ver    Driver_ODBC_Ver   Data_Source_Name \n",
       "\"Vertica Database\"       \"09.00.0001\"            \"03.80\"            \"VMart\" \n",
       "       Driver_Name         Driver_Ver           ODBC_Ver        Server_Name \n",
       " \"verticaodbcw.so\"       \"09.00.0001\"            \"03.52\"        \"10.0.2.15\" "
      ]
     },
     "metadata": {},
     "output_type": "display_data"
    },
    {
     "data": {
      "text/html": [
       "<table>\n",
       "<thead><tr><th scope=col>version</th></tr></thead>\n",
       "<tbody>\n",
       "\t<tr><td>Vertica Analytic Database v9.0.1-1</td></tr>\n",
       "</tbody>\n",
       "</table>\n"
      ],
      "text/latex": [
       "\\begin{tabular}{r|l}\n",
       " version\\\\\n",
       "\\hline\n",
       "\t Vertica Analytic Database v9.0.1-1\\\\\n",
       "\\end{tabular}\n"
      ],
      "text/markdown": [
       "\n",
       "version | \n",
       "|---|\n",
       "| Vertica Analytic Database v9.0.1-1 | \n",
       "\n",
       "\n"
      ],
      "text/plain": [
       "  version                           \n",
       "1 Vertica Analytic Database v9.0.1-1"
      ]
     },
     "metadata": {},
     "output_type": "display_data"
    }
   ],
   "source": [
    "library(RODBC)\n",
    "myconn <-odbcConnect(\"VMart\")\n",
    "odbcGetInfo(myconn)\n",
    "versiondat <- sqlQuery(myconn, \"select version()\")\n",
    "versiondat\n",
    "close(myconn)"
   ]
  },
  {
   "cell_type": "code",
   "execution_count": 2,
   "metadata": {},
   "outputs": [
    {
     "data": {},
     "metadata": {},
     "output_type": "display_data"
    }
   ],
   "source": []
  }
 ],
 "metadata": {
  "kernelspec": {
   "display_name": "R",
   "language": "R",
   "name": "ir"
  },
  "language_info": {
   "codemirror_mode": "r",
   "file_extension": ".r",
   "mimetype": "text/x-r-source",
   "name": "R",
   "pygments_lexer": "r",
   "version": "3.3.2"
  }
 },
 "nbformat": 4,
 "nbformat_minor": 2
}
